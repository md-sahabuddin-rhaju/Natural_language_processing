{
  "nbformat": 4,
  "nbformat_minor": 0,
  "metadata": {
    "colab": {
      "provenance": [],
      "collapsed_sections": [],
      "authorship_tag": "ABX9TyM7kmayH5tEPJfWMO10DgB6",
      "include_colab_link": true
    },
    "kernelspec": {
      "name": "python3",
      "display_name": "Python 3"
    },
    "language_info": {
      "name": "python"
    }
  },
  "cells": [
    {
      "cell_type": "markdown",
      "metadata": {
        "id": "view-in-github",
        "colab_type": "text"
      },
      "source": [
        "<a href=\"https://colab.research.google.com/github/md-sahabuddin-rhaju/Natural_language_processing/blob/main/ReGex.ipynb\" target=\"_parent\"><img src=\"https://colab.research.google.com/assets/colab-badge.svg\" alt=\"Open In Colab\"/></a>"
      ]
    },
    {
      "cell_type": "markdown",
      "source": [
        "[Regex101](https://https://regex101.com/)"
      ],
      "metadata": {
        "id": "Mz0LylrxYiRD"
      }
    },
    {
      "cell_type": "code",
      "execution_count": null,
      "metadata": {
        "id": "4TMwCvm1YIHW"
      },
      "outputs": [],
      "source": [
        "import re"
      ]
    },
    {
      "cell_type": "code",
      "source": [
        "#text as t\n",
        "t = '''hello, My name is Md Sahabuddin. I am learning Regular Expresssion. I am currently studying in University of essex. My phone number is 07377202492\n",
        "If it is written with code +447 377 202492 '''\n",
        "#pattern as p\n",
        "p = '\\+\\d{3} \\d{3} \\d{6}|\\d{11}'\n",
        "#matches as m\n",
        "m = re.findall(p, t)\n",
        "m\n"
      ],
      "metadata": {
        "colab": {
          "base_uri": "https://localhost:8080/"
        },
        "id": "eI4foM_ibC6Z",
        "outputId": "162472e4-d325-4068-e43c-87f396043089"
      },
      "execution_count": null,
      "outputs": [
        {
          "output_type": "execute_result",
          "data": {
            "text/plain": [
              "['07377202492', '+447 377 202492']"
            ]
          },
          "metadata": {},
          "execution_count": 2
        }
      ]
    },
    {
      "cell_type": "code",
      "source": [
        "#text as t2\n",
        "t2 = '''Note 1 – Overview\n",
        "Tesla, Inc. (“Tesla”, the “Company”, “we”, “us” or “our”) was incorporated in the State of Delaware on July 1, 2003. We design, develop, manufacture and sell high-performance fully electric vehicles and design, manufacture, install and sell solar energy generation and energy storage\n",
        "products. Our Chief Executive Officer, as the chief operating decision maker (“CODM”), organizes our company, manages resource allocations and measures performance among two operating and reportable segments: (i) automotive and (ii) energy generation and storage. aaa aa ll lll\n",
        "Beginning in the first quarter of 2021, there has been a trend in many parts of the world of increasing availability and administration of vaccines\n",
        "against COVID-19, as well as an easing of restrictions on social, business, travel and government activities and functions. On the other hand, infection\n",
        "rates and regulations continue to fluctuate in various regions and there are ongoing global impacts resulting from the pandemic, including challenges\n",
        "and increases in costs for logistics and supply chains, such as increased port congestion, intermittent supplier delays and a shortfall of semiconductor\n",
        "supply. We have also previously been affected by temporary manufacturing closures, employment and compensation adjustments and impediments to\n",
        "administrative activities supporting our product deliveries and deployments.\n",
        "\n",
        "Note 2 – Summary of Significant Accounting Policies\n",
        "Unaudited Interim Financial Statements\n",
        "The consolidated ballance sheet as of September 30, 2021, the consolidated statements of operations, the consolidated statements of\n",
        "comprehensive income, the consolidated statements of redeemable noncontrolling interests and equity for the three and nine months ended September\n",
        "30, 2021 and 2020 and the consolidated statements of cash flows for the nine months ended September 30, 2021 and 2020, as well as other information\n",
        "disclosed in the accompanying notes, are unaudited. The consolidated balance sheet as of December 31, 2020 was derived from the audited\n",
        "consolidated financial statements as of that date. The interim consolidated financial statements and the accompanying notes should be read in\n",
        "conjunction with the annual co '''\n",
        "#pattern as p2\n",
        "p2 = 'Note \\d . ([^\\n]+)'\n",
        "#matches as m2\n",
        "m2 = re.findall(p2, t2)\n",
        "\n",
        "m2"
      ],
      "metadata": {
        "colab": {
          "base_uri": "https://localhost:8080/"
        },
        "id": "38lLHOT1bY7f",
        "outputId": "07206f6f-b981-453c-9bf4-8cf0db777867"
      },
      "execution_count": null,
      "outputs": [
        {
          "output_type": "execute_result",
          "data": {
            "text/plain": [
              "['Overview', 'Summary of Significant Accounting Policies']"
            ]
          },
          "metadata": {},
          "execution_count": 3
        }
      ]
    },
    {
      "cell_type": "markdown",
      "source": [
        "# Extracting Financial periods from a company's financial reporting"
      ],
      "metadata": {
        "id": "KvDwpe6ZSwYZ"
      }
    },
    {
      "cell_type": "code",
      "source": [
        "#text as t3\n",
        "t3 = ''' \n",
        "the gross cost of operating lease vehicles in FY2021 Q1 was $4.85 billion.\n",
        "In previous quarter i.e fy2020 Q4 it was $3 billion.\n",
        "fy2021 q1 ==> $4.85\n",
        "fy2020 q4 ==> $3\n",
        "'''\n",
        "#pattern as p3\n",
        "p3 = 'FY\\d{4} Q[1-4]'\n",
        "p4 = 'fy(\\d{4} Q[1-4])'\n",
        "p5 = '\\$([\\d\\.]+)'\n",
        "p6 = 'fy(\\d{4} q[1-4]) [^\\$]+\\$([0-9\\.]+)'\n",
        "#matches as m3\n",
        "m3 = re.findall(p3, t3, flags=re.IGNORECASE)\n",
        "m4 = re.findall(p4, t3, flags=re.IGNORECASE)\n",
        "m5 = re.findall(p5, t3)\n",
        "m6 = re.findall(p6, t3)\n",
        "m6\n"
      ],
      "metadata": {
        "colab": {
          "base_uri": "https://localhost:8080/"
        },
        "id": "EDQTsuC_RwF4",
        "outputId": "8aa9cda6-c931-41dc-ec93-baa9b8e71e54"
      },
      "execution_count": null,
      "outputs": [
        {
          "output_type": "execute_result",
          "data": {
            "text/plain": [
              "[('2021 q1', '4.85'), ('2020 q4', '3')]"
            ]
          },
          "metadata": {},
          "execution_count": 4
        }
      ]
    },
    {
      "cell_type": "markdown",
      "source": [
        "# Exercise"
      ],
      "metadata": {
        "id": "ThNPdrSrenV0"
      }
    },
    {
      "cell_type": "code",
      "source": [
        "import re"
      ],
      "metadata": {
        "id": "9oLP-3S3W5_9"
      },
      "execution_count": null,
      "outputs": []
    },
    {
      "cell_type": "markdown",
      "source": [
        "#### 1. Extract all twitter handles from following text. Twitter handle is the text that appears after https://twitter.com/ and is a single word. Also it contains only alpha numeric characters i.e. A-Z a-z , o to 9 and underscore _\n"
      ],
      "metadata": {
        "id": "TTw_ahe4auMe"
      }
    },
    {
      "cell_type": "code",
      "source": [
        "_text = \"\"\"\n",
        "Follow our leader Elon musk on twitter here: https://twitter.com/elonmusk, more information \n",
        "on Tesla's products can be found at https://www.tesla.com/. Also here are leading influencers \n",
        "for tesla related news,\n",
        "https://twitter.com/teslarati\n",
        "https://twitter.com/dummy_tesla\n",
        "https://twitter.com/dummy_2_tesla\n",
        "\"\"\"\n",
        "_pa_1 = 'https:\\/\\/twitter.com\\/(\\w*)'\n",
        "matches_1 = re.findall(_pa_1, _text)\n",
        "#2nd and good answer of that question\n",
        "_pa_2 = 'https://twitter\\.com/([a-zA-Z0-9_]+)'\n",
        "matches_2 = re.findall(_pa_2, _text)\n",
        "matches_2"
      ],
      "metadata": {
        "colab": {
          "base_uri": "https://localhost:8080/"
        },
        "id": "LTaekVHhfnN3",
        "outputId": "424a7526-c517-47bb-991d-bb700adbb8bd"
      },
      "execution_count": null,
      "outputs": [
        {
          "output_type": "execute_result",
          "data": {
            "text/plain": [
              "['elonmusk', 'teslarati', 'dummy_tesla', 'dummy_2_tesla']"
            ]
          },
          "metadata": {},
          "execution_count": 6
        }
      ]
    },
    {
      "cell_type": "markdown",
      "source": [
        "#### 2. Extract Concentration Risk Types. It will be a text that appears after \"Concentration Risk:\", In below example, your regex should extract these two \n",
        "\n",
        "#####    (1) Credit Risk\n",
        "\n",
        "#####    (2) Supply Rish"
      ],
      "metadata": {
        "id": "bVhl_rgAadZd"
      }
    },
    {
      "cell_type": "code",
      "source": [
        "text = '''\n",
        "Concentration of Risk: Credit Risk\n",
        "Financial instruments that potentially subject us to a concentration of credit risk consist of cash, cash equivalents, marketable securities,\n",
        "restricted cash, accounts receivable, convertible note hedges, and interest rate swaps. Our cash balances are primarily invested in money market funds\n",
        "or on deposit at high credit quality financial institutions in the U.S. These deposits are typically in excess of insured limits. As of September 30, 2021\n",
        "and December 31, 2020, no entity represented 10% or more of our total accounts receivable balance. The risk of concentration for our convertible note\n",
        "hedges and interest rate swaps is mitigated by transacting with several highly-rated multinational banks.\n",
        "Concentration of Risk: Supply Risk\n",
        "We are dependent on our suppliers, including single source suppliers, and the inability of these suppliers to deliver necessary components of our\n",
        "products in a timely manner at prices, quality levels and volumes acceptable to us, or our inability to efficiently manage these components from these\n",
        "suppliers, could have a material adverse effect on our business, prospects, financial condition and operating results.\n",
        "'''\n",
        "pattern = 'Concentration of Risk: ([^\\n]+)'\n",
        "\n",
        "re.findall(pattern, text)"
      ],
      "metadata": {
        "colab": {
          "base_uri": "https://localhost:8080/"
        },
        "id": "2n45fiAyZiXF",
        "outputId": "10db08c4-b644-4910-cbf8-82bf0bdc6621"
      },
      "execution_count": null,
      "outputs": [
        {
          "output_type": "execute_result",
          "data": {
            "text/plain": [
              "['Credit Risk', 'Supply Risk']"
            ]
          },
          "metadata": {},
          "execution_count": 7
        }
      ]
    },
    {
      "cell_type": "markdown",
      "source": [
        "\n",
        "#### 3. Companies in europe reports their financial numbers of semi annual basis and you can have a document like this. To exatract quarterly and semin annual period you can use a regex as shown below\n",
        "\n",
        "#####    Hint: you need to use (?:) here to match everything enclosed"
      ],
      "metadata": {
        "id": "dP9Opjm1a0M0"
      }
    },
    {
      "cell_type": "code",
      "source": [
        "text = '''\n",
        "Tesla's gross cost of operating lease vehicles in FY2021 Q1 was $4.85 billion.\n",
        "BMW's gross cost of operating vehicles in FY2021 S1 was $8 billion.\n",
        "'''\n",
        "\n",
        "pattern = 'FY(\\d{4} (?:Q[1-4]|S[1-2]))'\n",
        "matches = re.findall(pattern, text)\n",
        "matches "
      ],
      "metadata": {
        "id": "Xpqib8fnZmzY",
        "colab": {
          "base_uri": "https://localhost:8080/"
        },
        "outputId": "99792e50-7af3-4073-dd23-ecb2b1a4203f"
      },
      "execution_count": null,
      "outputs": [
        {
          "output_type": "execute_result",
          "data": {
            "text/plain": [
              "['2021 Q1', '2021 S1']"
            ]
          },
          "metadata": {},
          "execution_count": 9
        }
      ]
    },
    {
      "cell_type": "code",
      "source": [],
      "metadata": {
        "id": "FRsGJ1U-Wm3V"
      },
      "execution_count": null,
      "outputs": []
    }
  ]
}